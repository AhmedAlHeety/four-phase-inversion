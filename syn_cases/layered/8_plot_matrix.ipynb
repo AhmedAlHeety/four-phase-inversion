{
 "cells": [
  {
   "cell_type": "code",
   "execution_count": 7,
   "metadata": {},
   "outputs": [],
   "source": [
    "%matplotlib inline"
   ]
  },
  {
   "cell_type": "code",
   "execution_count": 65,
   "metadata": {},
   "outputs": [],
   "source": [
    "#############################################\n",
    "# to find \"invlib\" in the main folder\n",
    "import sys, os\n",
    "sys.path.insert(0, os.path.abspath(\"../..\"))\n",
    "#############################################"
   ]
  },
  {
   "cell_type": "markdown",
   "metadata": {},
   "source": [
    "# Plot settings"
   ]
  },
  {
   "cell_type": "code",
   "execution_count": 66,
   "metadata": {},
   "outputs": [],
   "source": [
    "from invlib import set_style\n",
    "fs = 5.5\n",
    "set_style(fs, style=\"seaborn-dark\")\n",
    "\n",
    "import matplotlib.pyplot as plt\n",
    "import numpy as np\n",
    "\n",
    "from matplotlib.ticker import MultipleLocator, FormatStrFormatter, NullFormatter, FixedLocator\n",
    "from mpl_toolkits.axes_grid1.axes_divider import make_axes_locatable\n",
    "from mpl_toolkits.axes_grid1.colorbar import colorbar\n",
    "from mpl_toolkits.axes_grid1 import ImageGrid"
   ]
  },
  {
   "cell_type": "markdown",
   "metadata": {},
   "source": [
    "# Plot model covariance matrices"
   ]
  },
  {
   "cell_type": "code",
   "execution_count": 67,
   "metadata": {},
   "outputs": [],
   "source": [
    "MCMc = np.load(\"./MCMconst.npz\")\n",
    "MCM = np.load(\"./MCM.npz\")\n",
    "n = 5"
   ]
  },
  {
   "cell_type": "code",
   "execution_count": 68,
   "metadata": {},
   "outputs": [
    {
     "data": {
      "image/png": "[encoded data removed]",
      "text/plain": [
       "<Figure size 332.64x216 with 4 Axes>"
      ]
     },
     "metadata": {},
     "output_type": "display_data"
    }
   ],
   "source": [
    "# Plot\n",
    "fig = plt.figure(figsize=(4.62,3))\n",
    "grid = ImageGrid(fig, 111, nrows_ncols=(1, 2), axes_pad=0.15,\n",
    "                 add_all=True, cbar_location=\"right\", cbar_mode=\"edge\",\n",
    "                 cbar_size=\"5%\", cbar_pad=0.1, aspect=True)\n",
    "\n",
    "for ax, mat in zip(grid.axes_all, [MCM, MCMc]):\n",
    "    im = ax.imshow(mat, cmap=\"RdGy_r\", vmin=-0.01, vmax=0.01)\n",
    "    ax.set_aspect(\"equal\")\n",
    "    ticks = np.linspace(-0.5, 4*n -0.5, 5)\n",
    "    ax.set_xticks(ticks)\n",
    "    ax.set_yticks(ticks)\n",
    "\n",
    "    ax.set_xlim(-0.5, 4*n - 0.5)\n",
    "    ax.set_ylim(-0.5, 4*n - 0.5)\n",
    "\n",
    "    ax.invert_yaxis()\n",
    "    ax.xaxis.tick_top()\n",
    "\n",
    "    minorLocator = FixedLocator(ticks[:-1] + n/2)\n",
    "    subMinorLocator = FixedLocator(np.arange(4*n))\n",
    "    majorFormatter = NullFormatter()\n",
    "    ax.xaxis.set_minor_locator(minorLocator)\n",
    "    ax.xaxis.set_major_formatter(majorFormatter)\n",
    "\n",
    "    ax.yaxis.set_minor_locator(subMinorLocator)\n",
    "    ax.yaxis.set_major_formatter(majorFormatter)\n",
    "\n",
    "    labels = [\"Water\", \"Ice\", \"Air\",\"Rock\"]\n",
    "    long_labels = [r\"%s (f$_{\\rm %s}$)\" % (lab, x) for lab, x in zip(labels, \"wiar\")]\n",
    "    ylabs = [\"i\", \"ii\", \"iii\", \"iv\", \"v\"] * 4\n",
    "    ax.set_xticklabels(long_labels,minor=True)\n",
    "    ax.set_yticklabels(ylabs, minor=True, fontsize=5)\n",
    "    \n",
    "    ax.tick_params(axis='x', which='minor', top=False)\n",
    "    ax.tick_params(axis='y', which='minor', left=False)\n",
    "\n",
    "    ax.grid(which=\"major\", color=\"0.5\", linestyle='--')\n",
    "    \n",
    "for ax, title, letter in zip(grid.axes_all, [\n",
    "        \"Unconstrained\\n\", \"With volume\\nconservation constraints\"\n",
    "], \"AB\"):\n",
    "    ax.set_title(title + \"\\n\", fontsize=fs + 1, fontweight=\"bold\")\n",
    "    ax.set_title(letter + \"\\n\" *2, fontsize=fs + 1, fontweight=\"bold\", loc=\"left\")\n",
    "\n",
    "ax.yaxis.tick_left()\n",
    "cax = grid.cbar_axes[0]\n",
    "\n",
    "cbar = fig.colorbar(im, orientation=\"vertical\", cax=cax, pad=0)\n",
    "cbar.set_ticks([-0.01, 0, 0.01])\n",
    "cbar.set_ticklabels([\"-0.01\", \"0\", \" 0.01\"])\n",
    "cbar.set_label(label=\"Model covariance\", labelpad=-5)\n",
    "fig.savefig(\"../../manuscripts/1_theory_and_implementation/Fig3_one_column.pdf\")"
   ]
  },
  {
   "cell_type": "code",
   "execution_count": null,
   "metadata": {},
   "outputs": [],
   "source": []
  }
 ],
 "metadata": {
  "kernelspec": {
   "display_name": "Python 3",
   "language": "python",
   "name": "python3"
  },
  "language_info": {
   "codemirror_mode": {
    "name": "ipython",
    "version": 3
   },
   "file_extension": ".py",
   "mimetype": "text/x-python",
   "name": "python",
   "nbconvert_exporter": "python",
   "pygments_lexer": "ipython3",
   "version": "3.7.1"
  }
 },
 "nbformat": 4,
 "nbformat_minor": 2
}
