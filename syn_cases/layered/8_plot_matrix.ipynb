{
 "cells": [
  {
   "cell_type": "code",
   "execution_count": null,
   "metadata": {},
   "outputs": [],
   "source": [
    "%matplotlib inline"
   ]
  },
  {
   "cell_type": "code",
   "execution_count": null,
   "metadata": {},
   "outputs": [],
   "source": [
    "#############################################\n",
    "# to find \"invlib\" in the main folder\n",
    "import sys, os\n",
    "sys.path.insert(0, os.path.abspath(\"../..\"))\n",
    "#############################################"
   ]
  },
  {
   "cell_type": "markdown",
   "metadata": {},
   "source": [
    "# Plot settings"
   ]
  },
  {
   "cell_type": "code",
   "execution_count": null,
   "metadata": {},
   "outputs": [],
   "source": [
    "from invlib import set_style\n",
    "set_style()\n",
    "import matplotlib.pyplot as plt\n",
    "import numpy as np\n",
    "\n",
    "from matplotlib.ticker import MultipleLocator, FormatStrFormatter, NullFormatter, FixedLocator\n",
    "from mpl_toolkits.axes_grid1.axes_divider import make_axes_locatable\n",
    "from mpl_toolkits.axes_grid1.colorbar import colorbar"
   ]
  },
  {
   "cell_type": "markdown",
   "metadata": {},
   "source": [
    "# Dummy data"
   ]
  },
  {
   "cell_type": "code",
   "execution_count": null,
   "metadata": {},
   "outputs": [],
   "source": [
    "MCM = np.abs(np.load(\"./MCMs.npz\"))\n",
    "R = MCM\n",
    "n = 5"
   ]
  },
  {
   "cell_type": "code",
   "execution_count": null,
   "metadata": {},
   "outputs": [],
   "source": [
    "# Plot\n",
    "\n",
    "fig, ax = plt.subplots(figsize=(4,4))\n",
    "divider = make_axes_locatable(ax)\n",
    "cax = divider.append_axes(\"right\", size=\"5%\", pad=\"3%\")\n",
    "\n",
    "lower_limit = 0\n",
    "im = ax.imshow(R, cmap=\"Greys\", vmin=lower_limit, vmax=1)\n",
    "cbar = fig.colorbar(im, orientation=\"vertical\", cax=cax, pad=0)\n",
    "cbar.set_label(label=\"Magnitude of model covariance\", labelpad=-8)\n",
    "cbar.set_ticks([lower_limit, 1])\n",
    "#cbar.set_ticklabels([\"-1\", \" 1\"])\n",
    "\n",
    "ax.set_aspect(\"equal\")\n",
    "ticks = np.linspace(-0.5, 4*n -0.5, 5)\n",
    "ax.set_xticks(ticks)\n",
    "ax.set_yticks(ticks)\n",
    "\n",
    "ax.set_xlim(-0.5, 4*n - 0.5)\n",
    "ax.set_ylim(-0.5, 4*n - 0.5)\n",
    "\n",
    "ax.invert_yaxis()\n",
    "ax.xaxis.tick_top()\n",
    "\n",
    "minorLocator = FixedLocator(ticks[:-1] + n/2)\n",
    "majorFormatter = NullFormatter()\n",
    "ax.xaxis.set_minor_locator(minorLocator)\n",
    "ax.xaxis.set_major_formatter(majorFormatter)\n",
    "\n",
    "ax.yaxis.set_minor_locator(minorLocator)\n",
    "ax.yaxis.set_major_formatter(majorFormatter)\n",
    "\n",
    "labels = [r\"f$_{\\rm %s}$\" % x for x in \"wiar\"]\n",
    "long_labels = [\"Water\", \"Ice\", \"Air\",\"Rock\"]\n",
    "ax.set_xticklabels(long_labels, minor=True)\n",
    "ax.set_yticklabels(labels, minor=True)\n",
    "\n",
    "ax.tick_params(axis='x', which='minor', top=False)\n",
    "ax.tick_params(axis='y', which='minor', left=False)\n",
    "\n",
    "ax.grid(which=\"major\", color=\"0.5\", linestyle='--')\n",
    "\n",
    "fig.tight_layout()\n",
    "fig.savefig(\"../../manuscripts/1_theory_and_implementation/Fig3_one_column.pdf\")"
   ]
  }
 ],
 "metadata": {
  "kernelspec": {
   "display_name": "Python 3",
   "language": "python",
   "name": "python3"
  },
  "language_info": {
   "codemirror_mode": {
    "name": "ipython",
    "version": 3
   },
   "file_extension": ".py",
   "mimetype": "text/x-python",
   "name": "python",
   "nbconvert_exporter": "python",
   "pygments_lexer": "ipython3",
   "version": "3.7.0"
  }
 },
 "nbformat": 4,
 "nbformat_minor": 2
}
