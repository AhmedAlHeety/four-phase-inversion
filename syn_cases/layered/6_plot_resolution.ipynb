{
 "cells": [
  {
   "cell_type": "code",
   "execution_count": 83,
   "metadata": {},
   "outputs": [],
   "source": [
    "%matplotlib inline\n",
    "from matplotlib import rcParams\n",
    "rcParams['pdf.fonttype'] = 42"
   ]
  },
  {
   "cell_type": "markdown",
   "metadata": {},
   "source": [
    "# Plot settings"
   ]
  },
  {
   "cell_type": "code",
   "execution_count": 84,
   "metadata": {},
   "outputs": [],
   "source": [
    "import matplotlib.pyplot as plt\n",
    "import numpy as np\n",
    "\n",
    "from matplotlib.ticker import MultipleLocator, FormatStrFormatter, NullFormatter, FixedLocator\n",
    "from mpl_toolkits.axes_grid1.axes_divider import make_axes_locatable\n",
    "from mpl_toolkits.axes_grid1.colorbar import colorbar"
   ]
  },
  {
   "cell_type": "code",
   "execution_count": 169,
   "metadata": {},
   "outputs": [],
   "source": [
    "plt.style.use(\"seaborn-ticks\")\n",
    "\n",
    "config = dict(fontsize=8)\n",
    "plt.rcParams['font.family'] = \"Roboto\"\n",
    "plt.rcParams['font.size'] = config['fontsize']\n",
    "#plt.rcParams['font.weight'] = \"bold\"\n",
    "plt.rcParams['axes.labelsize'] = config['fontsize']\n",
    "plt.rcParams['xtick.labelsize'] = config['fontsize']\n",
    "plt.rcParams['ytick.labelsize'] = config['fontsize']\n",
    "plt.rcParams['legend.fontsize'] = config['fontsize']\n",
    "plt.rcParams['xtick.minor.pad'] = 1\n",
    "plt.rcParams['ytick.minor.pad'] = 1\n",
    "\n",
    "#plt.rcParams['font.family'] = 'sans-serif'\n",
    "plt.rcParams['font.weight'] = 'regular'\n",
    "#plt.rcParams['font.sans-serif'] = 'PT Sans'\n",
    "#plt.rcParams['font.monospace'] = 'PT Sans Mono'\n",
    "plt.rcParams['font.size'] = 8\n",
    "plt.rcParams['axes.labelsize'] = 8\n",
    "plt.rcParams['axes.labelweight'] = 'semibold'\n",
    "plt.rcParams['xtick.labelsize'] = 8\n",
    "plt.rcParams['ytick.labelsize'] = 8\n",
    "plt.rcParams['legend.fontsize'] = 9"
   ]
  },
  {
   "cell_type": "markdown",
   "metadata": {},
   "source": [
    "# Dummy data"
   ]
  },
  {
   "cell_type": "code",
   "execution_count": 170,
   "metadata": {},
   "outputs": [],
   "source": [
    "MCM = np.abs(np.load(\"./MCMs.npz\"))\n",
    "R = MCM\n",
    "n = 5"
   ]
  },
  {
   "cell_type": "code",
   "execution_count": null,
   "metadata": {},
   "outputs": [],
   "source": []
  },
  {
   "cell_type": "code",
   "execution_count": 171,
   "metadata": {},
   "outputs": [],
   "source": [
    "ticks = np.linspace(-0.5, 4*n -0.5, 5)"
   ]
  },
  {
   "cell_type": "code",
   "execution_count": 186,
   "metadata": {},
   "outputs": [
    {
     "data": {
      "image/png": "[encoded data removed]",
      "text/plain": [
       "<Figure size 288x288 with 2 Axes>"
      ]
     },
     "metadata": {},
     "output_type": "display_data"
    }
   ],
   "source": [
    "# Plot\n",
    "\n",
    "fig, ax = plt.subplots(figsize=(4,4))\n",
    "divider = make_axes_locatable(ax)\n",
    "cax = divider.append_axes(\"right\", size=\"5%\", pad=\"3%\")\n",
    "\n",
    "lower_limit = 0.25\n",
    "im = ax.imshow(R, cmap=\"Greys\", vmin=lower_limit, vmax=1)\n",
    "cbar = fig.colorbar(im, orientation=\"vertical\", cax=cax, pad=0, extend=\"min\")\n",
    "cbar.set_label(label=\"Magnitude of model covariance\", labelpad=-8)\n",
    "cbar.set_ticks([lower_limit, 1])\n",
    "#cbar.set_ticklabels([\"-1\", \" 1\"])\n",
    "\n",
    "ax.set_aspect(\"equal\")\n",
    "ax.set_xticks(ticks)\n",
    "ax.set_yticks(ticks)\n",
    "\n",
    "ax.set_xlim(-0.5, 4*n - 0.5)\n",
    "ax.set_ylim(-0.5, 4*n - 0.5)\n",
    "\n",
    "ax.invert_yaxis()\n",
    "ax.xaxis.tick_top()\n",
    "\n",
    "minorLocator = FixedLocator(ticks[:-1] + n/2)\n",
    "majorFormatter = NullFormatter()\n",
    "ax.xaxis.set_minor_locator(minorLocator)\n",
    "ax.xaxis.set_major_formatter(majorFormatter)\n",
    "\n",
    "ax.yaxis.set_minor_locator(minorLocator)\n",
    "ax.yaxis.set_major_formatter(majorFormatter)\n",
    "\n",
    "labels = [\"$f_w$\", \"$f_i$\", \"f$_a$\", \"$f_r$\"]\n",
    "long_labels = [\"Water\", \"Ice\", \"Air\",\"Rock\"]\n",
    "ax.set_xticklabels(long_labels, minor=True)\n",
    "ax.set_yticklabels(labels, minor=True)\n",
    "\n",
    "ax.tick_params(axis='x', which='minor', top=False)\n",
    "ax.tick_params(axis='y', which='minor', left=False)\n",
    "\n",
    "ax.grid(which=\"major\", color=\"0.5\", linestyle='-', linewidth=1)\n",
    "\n",
    "fig.tight_layout()\n",
    "fig.savefig(\"../../manuscripts/1_theory_and_implementation/Fig3_one_column.pdf\", pad_inches=0, bbox_inches=\"tight\")"
   ]
  },
  {
   "cell_type": "code",
   "execution_count": 155,
   "metadata": {},
   "outputs": [
    {
     "data": {
      "image/png": "[encoded data removed]",
      "text/plain": [
       "<Figure size 432x288 with 1 Axes>"
      ]
     },
     "metadata": {},
     "output_type": "display_data"
    }
   ],
   "source": [
    "import matplotlib.pyplot as plt\n",
    "from matplotlib.colors import LinearSegmentedColormap\n",
    "import numpy as np\n",
    "\n",
    "def display_cmap(cmap):\n",
    "    plt.imshow(np.linspace(0, 100, 256)[None, :],  aspect=25,    interpolation='nearest', cmap=cmap) \n",
    "    plt.axis('off')\n",
    "\n",
    "basic_cols=['#ff0000', '#808080', '#0000ff']\n",
    "my_cmap=LinearSegmentedColormap.from_list('mycmap', basic_cols)\n",
    "display_cmap(my_cmap)\n"
   ]
  },
  {
   "cell_type": "code",
   "execution_count": null,
   "metadata": {},
   "outputs": [],
   "source": []
  }
 ],
 "metadata": {
  "kernelspec": {
   "display_name": "Python 3",
   "language": "python",
   "name": "python3"
  },
  "language_info": {
   "codemirror_mode": {
    "name": "ipython",
    "version": 3
   },
   "file_extension": ".py",
   "mimetype": "text/x-python",
   "name": "python",
   "nbconvert_exporter": "python",
   "pygments_lexer": "ipython3",
   "version": "3.7.0"
  }
 },
 "nbformat": 4,
 "nbformat_minor": 2
}
